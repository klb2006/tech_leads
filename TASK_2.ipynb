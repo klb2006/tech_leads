{
  "nbformat": 4,
  "nbformat_minor": 0,
  "metadata": {
    "colab": {
      "provenance": [],
      "authorship_tag": "ABX9TyM8bdEP66706gBVE+bJyTZM",
      "include_colab_link": true
    },
    "kernelspec": {
      "name": "python3",
      "display_name": "Python 3"
    },
    "language_info": {
      "name": "python"
    }
  },
  "cells": [
    {
      "cell_type": "markdown",
      "metadata": {
        "id": "view-in-github",
        "colab_type": "text"
      },
      "source": [
        "<a href=\"https://colab.research.google.com/github/klb2006/tech_leads/blob/main/TASK_2.ipynb\" target=\"_parent\"><img src=\"https://colab.research.google.com/assets/colab-badge.svg\" alt=\"Open In Colab\"/></a>"
      ]
    },
    {
      "cell_type": "code",
      "execution_count": null,
      "metadata": {
        "colab": {
          "base_uri": "https://localhost:8080/"
        },
        "id": "tNgNpqUt0qoU",
        "outputId": "9199ce5d-192c-4d06-8c20-1973b013cb3e"
      },
      "outputs": [
        {
          "output_type": "stream",
          "name": "stdout",
          "text": [
            "Vowels: 6\n",
            "Consonants: 6\n"
          ]
        }
      ],
      "source": [
        "s=\"leela bhavani\"\n",
        "vowels_set = \"aeiouAEIOU\"\n",
        "vowels = 0\n",
        "consonants = 0\n",
        "for char in s:\n",
        "    if char.isalpha():\n",
        "        if char in vowels_set:\n",
        "            vowels += 1\n",
        "        else:\n",
        "            consonants += 1\n",
        "print(\"Vowels:\", vowels)\n",
        "print(\"Consonants:\", consonants)"
      ]
    },
    {
      "cell_type": "markdown",
      "source": [
        "**PESUDOCODE**\n",
        "\n",
        "**COUNT** **VOWELS** **AND** **CONSONATS**\n",
        "\n",
        "**STEP**-**1**:take input has string\n",
        "\n",
        "**STEP**-**2**:take vowels in small and capital letters\n",
        "\n",
        "**STEP**-**3**:count vowels and consonants\n",
        "\n",
        "**STEP**-**4**: using range in string\n",
        "\n",
        "**STEP**-**5**:using if and else control statement\n",
        "\n",
        "**STEP**-**6**:print vowels and consonants\n",
        "\n",
        "**STEP**-**7**:end"
      ],
      "metadata": {
        "id": "asvntADf7Qy6"
      }
    }
  ]
}