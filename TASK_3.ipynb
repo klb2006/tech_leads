{
  "nbformat": 4,
  "nbformat_minor": 0,
  "metadata": {
    "colab": {
      "provenance": [],
      "authorship_tag": "ABX9TyNl5mg/famDozg56pwzlHyN",
      "include_colab_link": true
    },
    "kernelspec": {
      "name": "python3",
      "display_name": "Python 3"
    },
    "language_info": {
      "name": "python"
    }
  },
  "cells": [
    {
      "cell_type": "markdown",
      "metadata": {
        "id": "view-in-github",
        "colab_type": "text"
      },
      "source": [
        "<a href=\"https://colab.research.google.com/github/klb2006/tech_leads/blob/main/TASK_3.ipynb\" target=\"_parent\"><img src=\"https://colab.research.google.com/assets/colab-badge.svg\" alt=\"Open In Colab\"/></a>"
      ]
    },
    {
      "cell_type": "code",
      "execution_count": null,
      "metadata": {
        "colab": {
          "base_uri": "https://localhost:8080/"
        },
        "id": "ZodhLxk9srLQ",
        "outputId": "992e2abd-a62a-4f70-a62e-9080de771448"
      },
      "outputs": [
        {
          "output_type": "stream",
          "name": "stdout",
          "text": [
            "The number 987654321 has 9 digits.\n"
          ]
        }
      ],
      "source": [
        "num = 987654321\n",
        "count = 1\n",
        "temp_num = num\n",
        "while temp_num >= 10:\n",
        "     count += 1\n",
        "     temp_num //= 10\n",
        "print(f\"The number {num} has {count} digits.\")\n",
        "\n",
        "\n"
      ]
    },
    {
      "cell_type": "markdown",
      "source": [
        "**PESUDOCODE**\n",
        "\n",
        "**count** **the** **number** **of** **digits**\n",
        "\n",
        "  **STEP**-**1**:START\n",
        "\n",
        "  **STEP**-**2**:take input\n",
        "\n",
        "**STEP**-**3**:count equal to 1\n",
        "\n",
        "**STEP**-**4**: using the temp operation\n",
        "\n",
        "**STEP**-**5**:using while loop to increment the count\n",
        "\n",
        "  **STEP**-**6**: print\n",
        "\n",
        "\n",
        "   **STEP**-**8**:END\n"
      ],
      "metadata": {
        "id": "_rvZ37PSwQ43"
      }
    }
  ]
}