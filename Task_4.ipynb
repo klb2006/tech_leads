{
  "nbformat": 4,
  "nbformat_minor": 0,
  "metadata": {
    "colab": {
      "provenance": [],
      "authorship_tag": "ABX9TyNeTrkYUtr/w0upvwLAd0aI",
      "include_colab_link": true
    },
    "kernelspec": {
      "name": "python3",
      "display_name": "Python 3"
    },
    "language_info": {
      "name": "python"
    }
  },
  "cells": [
    {
      "cell_type": "markdown",
      "metadata": {
        "id": "view-in-github",
        "colab_type": "text"
      },
      "source": [
        "<a href=\"https://colab.research.google.com/github/klb2006/tech_leads/blob/main/Task_4.ipynb\" target=\"_parent\"><img src=\"https://colab.research.google.com/assets/colab-badge.svg\" alt=\"Open In Colab\"/></a>"
      ]
    },
    {
      "cell_type": "code",
      "execution_count": null,
      "metadata": {
        "colab": {
          "base_uri": "https://localhost:8080/"
        },
        "id": "dN9kG-Ztt0DM",
        "outputId": "ae4c34e6-7067-44a8-effe-3f409dc009c4"
      },
      "outputs": [
        {
          "output_type": "stream",
          "name": "stdout",
          "text": [
            "Enter the number:10\n",
            "Enter the number:20\n",
            "60\n"
          ]
        }
      ],
      "source": [
        "L = int(input(\"Enter the number:\"))\n",
        "R = int(input(\"Enter the number:\"))\n",
        "sum = 0\n",
        "\n",
        "for n in range(L,R + 1):\n",
        "    if n > 1:\n",
        "        is_prime = True\n",
        "        for i in range(2, int(n**0.5) + 1):\n",
        "            if n % i == 0:\n",
        "                is_prime = False\n",
        "                break\n",
        "        if is_prime:\n",
        "            sum += n\n",
        "\n",
        "print(sum)"
      ]
    },
    {
      "cell_type": "markdown",
      "source": [
        "Step 1:take use inputs\n",
        "\n",
        "Step 2:sum=0\n",
        "\n",
        "Step 3:using for loop\n",
        "\n",
        "Step 4:using if condition\n",
        "\n",
        "Step 5:it is a prime number print true\n",
        "\n",
        "Step 6:using else condition\n",
        "\n",
        "Step 7:it is not a prime print false\n",
        "\n",
        "Step 8:using break key word\n",
        "\n",
        "Step 9:sum +=n\n",
        "\n",
        "Step 10:print sum"
      ],
      "metadata": {
        "id": "Exb_jhh9uJxu"
      }
    }
  ]
}