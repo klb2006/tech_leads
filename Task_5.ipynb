{
  "nbformat": 4,
  "nbformat_minor": 0,
  "metadata": {
    "colab": {
      "provenance": [],
      "authorship_tag": "ABX9TyOsGQtLiInQIect3idrHrF7",
      "include_colab_link": true
    },
    "kernelspec": {
      "name": "python3",
      "display_name": "Python 3"
    },
    "language_info": {
      "name": "python"
    }
  },
  "cells": [
    {
      "cell_type": "markdown",
      "metadata": {
        "id": "view-in-github",
        "colab_type": "text"
      },
      "source": [
        "<a href=\"https://colab.research.google.com/github/klb2006/tech_leads/blob/main/Task_5.ipynb\" target=\"_parent\"><img src=\"https://colab.research.google.com/assets/colab-badge.svg\" alt=\"Open In Colab\"/></a>"
      ]
    },
    {
      "cell_type": "code",
      "execution_count": null,
      "metadata": {
        "colab": {
          "base_uri": "https://localhost:8080/"
        },
        "id": "1JFzwO8dRDRG",
        "outputId": "39822dc6-391b-4761-a44d-298b70672d6c"
      },
      "outputs": [
        {
          "output_type": "stream",
          "name": "stdout",
          "text": [
            "Enter a number: 5\n",
            "Factorial of 5 : 120\n"
          ]
        }
      ],
      "source": [
        "\n",
        "n = int(input(\"Enter a number: \"))\n",
        "if n>0:\n",
        "    factorial = 1\n",
        "    for i in range(1, n + 1):\n",
        "        factorial *= i\n",
        "    print(f\"Factorial of {n} : {factorial}\")\n"
      ]
    },
    {
      "cell_type": "markdown",
      "source": [
        "STEP-1:take user input\n",
        "\n",
        "STEP-2:using if condition if number is greater than zero\n",
        "\n",
        "STEP-3:factorial=1\n",
        "\n",
        "STEP-4:using for loop\n",
        "\n",
        "STEP-5:then factorial*=i\n",
        "\n",
        "STEP-6:print factorial of the number"
      ],
      "metadata": {
        "id": "1KdPtSMzZdXj"
      }
    }
  ]
}